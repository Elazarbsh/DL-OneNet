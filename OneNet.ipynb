{
  "nbformat": 4,
  "nbformat_minor": 0,
  "metadata": {
    "accelerator": "GPU",
    "colab": {
      "name": "OneNet.ipynb",
      "provenance": [],
      "collapsed_sections": [],
      "machine_shape": "hm",
      "include_colab_link": true
    },
    "kernelspec": {
      "display_name": "Python 3",
      "name": "python3"
    }
  },
  "cells": [
    {
      "cell_type": "markdown",
      "metadata": {
        "id": "view-in-github",
        "colab_type": "text"
      },
      "source": [
        "<a href=\"https://colab.research.google.com/github/Elazarbsh/DL-OneNet/blob/main/OneNet.ipynb\" target=\"_parent\"><img src=\"https://colab.research.google.com/assets/colab-badge.svg\" alt=\"Open In Colab\"/></a>"
      ]
    },
    {
      "cell_type": "code",
      "metadata": {
        "id": "afXzzm_jWM39"
      },
      "source": [
        "!git clone https://github.com/PeizeSun/OneNet.git"
      ],
      "execution_count": null,
      "outputs": []
    },
    {
      "cell_type": "code",
      "metadata": {
        "id": "6ArB46hUXgNC"
      },
      "source": [
        "cd OneNet"
      ],
      "execution_count": null,
      "outputs": []
    },
    {
      "cell_type": "markdown",
      "metadata": {
        "id": "CxGYhfl3rCy4"
      },
      "source": [
        "#  installing torchvison according to your cuda version"
      ]
    },
    {
      "cell_type": "code",
      "metadata": {
        "id": "ora4M9KThIwk"
      },
      "source": [
        "!nvcc --version"
      ],
      "execution_count": null,
      "outputs": []
    },
    {
      "cell_type": "code",
      "metadata": {
        "id": "aLOtDDDihcy0"
      },
      "source": [
        "pip install torch==1.7.1+cu101 torchvision==0.8.2+cu101 torchaudio===0.7.2 -f https://download.pytorch.org/whl/torch_stable.html"
      ],
      "execution_count": null,
      "outputs": []
    },
    {
      "cell_type": "markdown",
      "metadata": {
        "id": "PwA0CZNlaxXg"
      },
      "source": [
        "# restart runtime after installing"
      ]
    },
    {
      "cell_type": "code",
      "metadata": {
        "id": "SATmJGGiad0Q"
      },
      "source": [
        "!pip install pyyaml==5.1 pycocotools>=2.0.1"
      ],
      "execution_count": null,
      "outputs": []
    },
    {
      "cell_type": "code",
      "metadata": {
        "id": "f5-hLPy_Zg9p"
      },
      "source": [
        "import torch, torchvision\n",
        "print(torch.__version__, torch.cuda.is_available())"
      ],
      "execution_count": null,
      "outputs": []
    },
    {
      "cell_type": "markdown",
      "metadata": {
        "id": "IRMp5PH0ZaTQ"
      },
      "source": [
        "# install onenet"
      ]
    },
    {
      "cell_type": "code",
      "metadata": {
        "id": "VEOfkYVsW6ck"
      },
      "source": [
        "!python setup.py build develop"
      ],
      "execution_count": null,
      "outputs": []
    },
    {
      "cell_type": "markdown",
      "metadata": {
        "id": "EZ4aOsnUqdeL"
      },
      "source": [
        "# link coco datset to OneNet dateset folder\n",
        "## download COCO dataset and then link the folder with OneNet"
      ]
    },
    {
      "cell_type": "code",
      "metadata": {
        "id": "6TNWAF7bW_bN"
      },
      "source": [
        "!mkdir -p datasets/coco\n",
        "!ln -s /path_to_coco_dataset/annotations datasets/coco/annotations\n",
        "!ln -s /path_to_coco_dataset/train2017 datasets/coco/train2017\n",
        "!ln -s /path_to_coco_dataset/val2017 datasets/coco/val2017"
      ],
      "execution_count": null,
      "outputs": []
    },
    {
      "cell_type": "code",
      "metadata": {
        "id": "01kNsDsFb0ry"
      },
      "source": [
        "pip install -U iopath"
      ],
      "execution_count": null,
      "outputs": []
    },
    {
      "cell_type": "markdown",
      "metadata": {
        "id": "qQOQZKS5rI3J"
      },
      "source": [
        "# train ONeNet"
      ]
    },
    {
      "cell_type": "code",
      "metadata": {
        "id": "T9_MTAAQXrIl"
      },
      "source": [
        "!python projects/OneNet/train_net.py --num-gpus 1 \\\n",
        "    --config-file projects/OneNet/configs/onenet.res50.dcn.yaml"
      ],
      "execution_count": null,
      "outputs": []
    },
    {
      "cell_type": "markdown",
      "metadata": {
        "id": "FEQFguZWrMRm"
      },
      "source": [
        "# Evaluate"
      ]
    },
    {
      "cell_type": "code",
      "metadata": {
        "id": "-cm7zqKrYJlj"
      },
      "source": [
        "!python projects/OneNet/train_net.py --num-gpus 1 \\\n",
        "    --config-file projects/OneNet/configs/onenet.res50.dcn.yaml \\\n",
        "    --eval-only MODEL.WEIGHTS model_onenet_r50dcn.pth"
      ],
      "execution_count": null,
      "outputs": []
    },
    {
      "cell_type": "markdown",
      "metadata": {
        "id": "bxiRGTX3rR2-"
      },
      "source": [
        "# Visualize\n",
        "install opencv additinoally for visualize"
      ]
    },
    {
      "cell_type": "code",
      "metadata": {
        "id": "qRpGotxpzzZ-"
      },
      "source": [
        "!python demo/demo.py\\\n",
        "    --config-file projects/OneNet/configs/onenet.res50.dcn.yaml \\\n",
        "    --input ./img/* --output ./imgout --confidence-threshold 0.4 \\\n",
        "    --opts MODEL.WEIGHTS model_onenet_r50dcn.pth"
      ],
      "execution_count": null,
      "outputs": []
    },
    {
      "cell_type": "markdown",
      "source": [
        "Display results"
      ],
      "metadata": {
        "id": "QR_jImdQIQrM"
      }
    },
    {
      "cell_type": "code",
      "source": [
        "import glob\n",
        "import matplotlib.pyplot as plt\n",
        "import matplotlib.image as mpimg\n",
        "%matplotlib inline\n",
        "\n",
        "images = []\n",
        "for img_path in glob.glob('./imgout/*'):\n",
        "    images.append(mpimg.imread(img_path))\n",
        "\n",
        "plt.figure(figsize=(80,60))\n",
        "columns = 5\n",
        "for i, image in enumerate(images):\n",
        "    plt.subplot(len(images) / columns + 1, columns, i + 1)\n",
        "    plt.imshow(image)\n",
        "    plt.xticks([])\n",
        "    plt.yticks([])"
      ],
      "metadata": {
        "id": "udma3QXKIPvX"
      },
      "execution_count": null,
      "outputs": []
    }
  ]
}